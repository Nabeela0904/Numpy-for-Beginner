{
 "cells": [
  {
   "cell_type": "code",
   "execution_count": 1,
   "id": "13c1ed6d",
   "metadata": {},
   "outputs": [],
   "source": [
    "import numpy as np"
   ]
  },
  {
   "cell_type": "markdown",
   "id": "29b22891",
   "metadata": {},
   "source": [
    "# data type and attributes\n"
   ]
  },
  {
   "cell_type": "code",
   "execution_count": 2,
   "id": "7a9791e6",
   "metadata": {},
   "outputs": [],
   "source": [
    "#main datatype in numpy is ndarray\n",
    "a1 = np.array([1,2,3])\n"
   ]
  },
  {
   "cell_type": "code",
   "execution_count": 3,
   "id": "41e23ea4",
   "metadata": {},
   "outputs": [
    {
     "data": {
      "text/plain": [
       "array([1, 2, 3])"
      ]
     },
     "execution_count": 3,
     "metadata": {},
     "output_type": "execute_result"
    }
   ],
   "source": [
    "a1"
   ]
  },
  {
   "cell_type": "code",
   "execution_count": 4,
   "id": "af1f7a2b",
   "metadata": {},
   "outputs": [
    {
     "data": {
      "text/plain": [
       "numpy.ndarray"
      ]
     },
     "execution_count": 4,
     "metadata": {},
     "output_type": "execute_result"
    }
   ],
   "source": [
    "type(a1)"
   ]
  },
  {
   "cell_type": "code",
   "execution_count": 5,
   "id": "e4a0c617",
   "metadata": {},
   "outputs": [],
   "source": [
    "a2 = np.array([[1,2,3],[6.5,4.3,2.2],[3.9,9.8,2.9]])"
   ]
  },
  {
   "cell_type": "code",
   "execution_count": 6,
   "id": "f9bd66ee",
   "metadata": {},
   "outputs": [
    {
     "data": {
      "text/plain": [
       "array([[1. , 2. , 3. ],\n",
       "       [6.5, 4.3, 2.2],\n",
       "       [3.9, 9.8, 2.9]])"
      ]
     },
     "execution_count": 6,
     "metadata": {},
     "output_type": "execute_result"
    }
   ],
   "source": [
    "a2"
   ]
  },
  {
   "cell_type": "code",
   "execution_count": 7,
   "id": "aac87480",
   "metadata": {},
   "outputs": [
    {
     "data": {
      "text/plain": [
       "numpy.ndarray"
      ]
     },
     "execution_count": 7,
     "metadata": {},
     "output_type": "execute_result"
    }
   ],
   "source": [
    "type(a2)"
   ]
  },
  {
   "cell_type": "code",
   "execution_count": 8,
   "id": "d09aa696",
   "metadata": {},
   "outputs": [],
   "source": [
    "a3 = np.array([[[1,2,3],[4,5,6],[6,5,8]],[[11,33,55],[88,99,66],[33,99,55]]])"
   ]
  },
  {
   "cell_type": "code",
   "execution_count": 9,
   "id": "d2f630ea",
   "metadata": {},
   "outputs": [
    {
     "data": {
      "text/plain": [
       "array([[[ 1,  2,  3],\n",
       "        [ 4,  5,  6],\n",
       "        [ 6,  5,  8]],\n",
       "\n",
       "       [[11, 33, 55],\n",
       "        [88, 99, 66],\n",
       "        [33, 99, 55]]])"
      ]
     },
     "execution_count": 9,
     "metadata": {},
     "output_type": "execute_result"
    }
   ],
   "source": [
    "a3"
   ]
  },
  {
   "cell_type": "code",
   "execution_count": 10,
   "id": "9120cac7",
   "metadata": {},
   "outputs": [
    {
     "data": {
      "text/plain": [
       "numpy.ndarray"
      ]
     },
     "execution_count": 10,
     "metadata": {},
     "output_type": "execute_result"
    }
   ],
   "source": [
    "type(a3)"
   ]
  },
  {
   "cell_type": "code",
   "execution_count": 11,
   "id": "a2547b7e",
   "metadata": {},
   "outputs": [
    {
     "data": {
      "text/plain": [
       "(3,)"
      ]
     },
     "execution_count": 11,
     "metadata": {},
     "output_type": "execute_result"
    }
   ],
   "source": [
    "a1.shape"
   ]
  },
  {
   "cell_type": "code",
   "execution_count": 12,
   "id": "8b462657",
   "metadata": {},
   "outputs": [
    {
     "data": {
      "text/plain": [
       "(3, 3)"
      ]
     },
     "execution_count": 12,
     "metadata": {},
     "output_type": "execute_result"
    }
   ],
   "source": [
    "a2.shape"
   ]
  },
  {
   "cell_type": "code",
   "execution_count": 13,
   "id": "bdc74083",
   "metadata": {},
   "outputs": [
    {
     "data": {
      "text/plain": [
       "(2, 3, 3)"
      ]
     },
     "execution_count": 13,
     "metadata": {},
     "output_type": "execute_result"
    }
   ],
   "source": [
    "a3.shape"
   ]
  },
  {
   "cell_type": "code",
   "execution_count": 14,
   "id": "9aead708",
   "metadata": {},
   "outputs": [
    {
     "data": {
      "text/plain": [
       "(1, 2, 3)"
      ]
     },
     "execution_count": 14,
     "metadata": {},
     "output_type": "execute_result"
    }
   ],
   "source": [
    "#number of dimension\n",
    "a1.ndim,a2.ndim,a3.ndim"
   ]
  },
  {
   "cell_type": "code",
   "execution_count": 15,
   "id": "83918c62",
   "metadata": {},
   "outputs": [
    {
     "data": {
      "text/plain": [
       "(dtype('int32'), dtype('float64'), dtype('int32'))"
      ]
     },
     "execution_count": 15,
     "metadata": {},
     "output_type": "execute_result"
    }
   ],
   "source": [
    "a1.dtype,a2.dtype,a3.dtype"
   ]
  },
  {
   "cell_type": "code",
   "execution_count": 16,
   "id": "cc596c5d",
   "metadata": {},
   "outputs": [
    {
     "data": {
      "text/plain": [
       "(3, 9, 18)"
      ]
     },
     "execution_count": 16,
     "metadata": {},
     "output_type": "execute_result"
    }
   ],
   "source": [
    "a1.size,a2.size,a3.size"
   ]
  },
  {
   "cell_type": "code",
   "execution_count": 17,
   "id": "f22a8e57",
   "metadata": {},
   "outputs": [
    {
     "data": {
      "text/html": [
       "<div>\n",
       "<style scoped>\n",
       "    .dataframe tbody tr th:only-of-type {\n",
       "        vertical-align: middle;\n",
       "    }\n",
       "\n",
       "    .dataframe tbody tr th {\n",
       "        vertical-align: top;\n",
       "    }\n",
       "\n",
       "    .dataframe thead th {\n",
       "        text-align: right;\n",
       "    }\n",
       "</style>\n",
       "<table border=\"1\" class=\"dataframe\">\n",
       "  <thead>\n",
       "    <tr style=\"text-align: right;\">\n",
       "      <th></th>\n",
       "      <th>0</th>\n",
       "      <th>1</th>\n",
       "      <th>2</th>\n",
       "    </tr>\n",
       "  </thead>\n",
       "  <tbody>\n",
       "    <tr>\n",
       "      <th>0</th>\n",
       "      <td>1.0</td>\n",
       "      <td>2.0</td>\n",
       "      <td>3.0</td>\n",
       "    </tr>\n",
       "    <tr>\n",
       "      <th>1</th>\n",
       "      <td>6.5</td>\n",
       "      <td>4.3</td>\n",
       "      <td>2.2</td>\n",
       "    </tr>\n",
       "    <tr>\n",
       "      <th>2</th>\n",
       "      <td>3.9</td>\n",
       "      <td>9.8</td>\n",
       "      <td>2.9</td>\n",
       "    </tr>\n",
       "  </tbody>\n",
       "</table>\n",
       "</div>"
      ],
      "text/plain": [
       "     0    1    2\n",
       "0  1.0  2.0  3.0\n",
       "1  6.5  4.3  2.2\n",
       "2  3.9  9.8  2.9"
      ]
     },
     "execution_count": 17,
     "metadata": {},
     "output_type": "execute_result"
    }
   ],
   "source": [
    "#creatina a dataframe by using numpy\n",
    "import pandas as pd\n",
    "df = pd.DataFrame(a2)\n",
    "df"
   ]
  },
  {
   "cell_type": "markdown",
   "id": "abe78b4f",
   "metadata": {},
   "source": [
    "# creating numpy arrays"
   ]
  },
  {
   "cell_type": "code",
   "execution_count": 18,
   "id": "cbbbfc46",
   "metadata": {},
   "outputs": [
    {
     "data": {
      "text/plain": [
       "array([1, 2, 3])"
      ]
     },
     "execution_count": 18,
     "metadata": {},
     "output_type": "execute_result"
    }
   ],
   "source": [
    "sample_array = np.array([1,2,3])\n",
    "sample_array"
   ]
  },
  {
   "cell_type": "code",
   "execution_count": 19,
   "id": "33c76599",
   "metadata": {},
   "outputs": [
    {
     "data": {
      "text/plain": [
       "dtype('int32')"
      ]
     },
     "execution_count": 19,
     "metadata": {},
     "output_type": "execute_result"
    }
   ],
   "source": [
    "sample_array.dtype"
   ]
  },
  {
   "cell_type": "code",
   "execution_count": 20,
   "id": "9a84b32c",
   "metadata": {
    "scrolled": true
   },
   "outputs": [],
   "source": [
    " ones = np.ones((2,3))#to know what we can do inside the bracket you can press shift + tab"
   ]
  },
  {
   "cell_type": "code",
   "execution_count": 21,
   "id": "682d86a0",
   "metadata": {},
   "outputs": [
    {
     "data": {
      "text/plain": [
       "array([[1., 1., 1.],\n",
       "       [1., 1., 1.]])"
      ]
     },
     "execution_count": 21,
     "metadata": {},
     "output_type": "execute_result"
    }
   ],
   "source": [
    "ones"
   ]
  },
  {
   "cell_type": "markdown",
   "id": "7ddff4e8",
   "metadata": {},
   "source": [
    "## note: default value of array is float"
   ]
  },
  {
   "cell_type": "code",
   "execution_count": 22,
   "id": "e2f87544",
   "metadata": {},
   "outputs": [
    {
     "data": {
      "text/plain": [
       "dtype('float64')"
      ]
     },
     "execution_count": 22,
     "metadata": {},
     "output_type": "execute_result"
    }
   ],
   "source": [
    "ones.dtype"
   ]
  },
  {
   "cell_type": "code",
   "execution_count": 23,
   "id": "de2f91d7",
   "metadata": {},
   "outputs": [
    {
     "data": {
      "text/plain": [
       "numpy.ndarray"
      ]
     },
     "execution_count": 23,
     "metadata": {},
     "output_type": "execute_result"
    }
   ],
   "source": [
    "type(ones)"
   ]
  },
  {
   "cell_type": "code",
   "execution_count": 24,
   "id": "134f14b6",
   "metadata": {},
   "outputs": [],
   "source": [
    "zeros = np.zeros((2,4))"
   ]
  },
  {
   "cell_type": "code",
   "execution_count": 25,
   "id": "5797863d",
   "metadata": {},
   "outputs": [
    {
     "data": {
      "text/plain": [
       "array([[0., 0., 0., 0.],\n",
       "       [0., 0., 0., 0.]])"
      ]
     },
     "execution_count": 25,
     "metadata": {},
     "output_type": "execute_result"
    }
   ],
   "source": [
    "zeros"
   ]
  },
  {
   "cell_type": "markdown",
   "id": "6997547b",
   "metadata": {},
   "source": [
    "### arange(): is indicate start, stop and step for example:(startnumber,stop number, step number)"
   ]
  },
  {
   "cell_type": "code",
   "execution_count": 26,
   "id": "1b066b0b",
   "metadata": {},
   "outputs": [
    {
     "data": {
      "text/plain": [
       "array([ 2,  4,  6,  8, 10, 12])"
      ]
     },
     "execution_count": 26,
     "metadata": {},
     "output_type": "execute_result"
    }
   ],
   "source": [
    "range_array = np.arange(2,14,2)\n",
    "range_array"
   ]
  },
  {
   "cell_type": "markdown",
   "id": "83a11120",
   "metadata": {},
   "source": [
    "### np.random.randint(lower value, higher value , size=()) : array starts with lower value and ends with higher value arranged randomly in the given size"
   ]
  },
  {
   "cell_type": "code",
   "execution_count": 27,
   "id": "5ada05f2",
   "metadata": {},
   "outputs": [
    {
     "data": {
      "text/plain": [
       "array([[3, 2, 8, 4, 3],\n",
       "       [6, 5, 2, 7, 6],\n",
       "       [0, 9, 3, 5, 8]])"
      ]
     },
     "execution_count": 27,
     "metadata": {},
     "output_type": "execute_result"
    }
   ],
   "source": [
    "random_array = np.random.randint(0,10, size=(3,5))\n",
    "random_array"
   ]
  },
  {
   "cell_type": "code",
   "execution_count": 28,
   "id": "2f3fa51f",
   "metadata": {},
   "outputs": [
    {
     "data": {
      "text/plain": [
       "15"
      ]
     },
     "execution_count": 28,
     "metadata": {},
     "output_type": "execute_result"
    }
   ],
   "source": [
    "random_array.size"
   ]
  },
  {
   "cell_type": "code",
   "execution_count": 29,
   "id": "f557e7b1",
   "metadata": {},
   "outputs": [
    {
     "data": {
      "text/plain": [
       "(3, 5)"
      ]
     },
     "execution_count": 29,
     "metadata": {},
     "output_type": "execute_result"
    }
   ],
   "source": [
    "random_array.shape"
   ]
  },
  {
   "cell_type": "markdown",
   "id": "a566d1a8",
   "metadata": {},
   "source": [
    "### The np. random. random() function is used to generate random numbers in the interval of [0.0, 1.0). Note: When representing intervals, square bracket [ means that the number is included in the interval, and round bracket ) means that the number is not included in the interval."
   ]
  },
  {
   "cell_type": "code",
   "execution_count": 30,
   "id": "3f620b36",
   "metadata": {},
   "outputs": [
    {
     "data": {
      "text/plain": [
       "array([[0.3680919 , 0.62592032, 0.33531907],\n",
       "       [0.92390858, 0.75248082, 0.30596439],\n",
       "       [0.20392239, 0.65349025, 0.57739027],\n",
       "       [0.24755548, 0.33099551, 0.06508113],\n",
       "       [0.41616271, 0.52429054, 0.41344873]])"
      ]
     },
     "execution_count": 30,
     "metadata": {},
     "output_type": "execute_result"
    }
   ],
   "source": [
    "random_array_2 = np.random.random((5,3))\n",
    "random_array_2"
   ]
  },
  {
   "cell_type": "code",
   "execution_count": 31,
   "id": "3ecfbca9",
   "metadata": {},
   "outputs": [
    {
     "data": {
      "text/plain": [
       "(5, 3)"
      ]
     },
     "execution_count": 31,
     "metadata": {},
     "output_type": "execute_result"
    }
   ],
   "source": [
    "random_array_2.shape"
   ]
  },
  {
   "cell_type": "markdown",
   "id": "d4652b3f",
   "metadata": {},
   "source": [
    "### random.rand(): represent random value in a given size in the float value"
   ]
  },
  {
   "cell_type": "code",
   "execution_count": 32,
   "id": "67635afb",
   "metadata": {},
   "outputs": [
    {
     "data": {
      "text/plain": [
       "array([[0.63336673, 0.76308264, 0.86405119],\n",
       "       [0.90274568, 0.70633123, 0.80961493],\n",
       "       [0.12633305, 0.3977447 , 0.76541625],\n",
       "       [0.09988618, 0.51200126, 0.88495581],\n",
       "       [0.77785165, 0.28732406, 0.38634806]])"
      ]
     },
     "execution_count": 32,
     "metadata": {},
     "output_type": "execute_result"
    }
   ],
   "source": [
    "random_array_3 = np.random.rand(5,3)\n",
    "random_array_3"
   ]
  },
  {
   "cell_type": "markdown",
   "id": "7959e694",
   "metadata": {},
   "source": [
    "### random.seed():it refers  the random output to constant for next runs also"
   ]
  },
  {
   "cell_type": "code",
   "execution_count": 33,
   "id": "72ebeb35",
   "metadata": {},
   "outputs": [
    {
     "data": {
      "text/plain": [
       "array([[0.07630829, 0.77991879, 0.43840923],\n",
       "       [0.72346518, 0.97798951, 0.53849587],\n",
       "       [0.50112046, 0.07205113, 0.26843898],\n",
       "       [0.4998825 , 0.67923   , 0.80373904],\n",
       "       [0.38094113, 0.06593635, 0.2881456 ]])"
      ]
     },
     "execution_count": 33,
     "metadata": {},
     "output_type": "execute_result"
    }
   ],
   "source": [
    "np.random.seed(7)\n",
    "random_array_4 = np.random.random((5,3))\n",
    "random_array_4"
   ]
  },
  {
   "cell_type": "markdown",
   "id": "86787823",
   "metadata": {},
   "source": [
    "# viewing array and matrices"
   ]
  },
  {
   "cell_type": "markdown",
   "id": "f03a3a0c",
   "metadata": {},
   "source": [
    "## .unique():With the help of np.unique() method, we can get the unique values from an array given as parameter in np.unique() method.\n",
    "Syntax : np.unique(Array)\n",
    "Return : Return the unique of an array."
   ]
  },
  {
   "cell_type": "code",
   "execution_count": 34,
   "id": "8523002e",
   "metadata": {},
   "outputs": [
    {
     "data": {
      "text/plain": [
       "array([0.06593635, 0.07205113, 0.07630829, 0.26843898, 0.2881456 ,\n",
       "       0.38094113, 0.43840923, 0.4998825 , 0.50112046, 0.53849587,\n",
       "       0.67923   , 0.72346518, 0.77991879, 0.80373904, 0.97798951])"
      ]
     },
     "execution_count": 34,
     "metadata": {},
     "output_type": "execute_result"
    }
   ],
   "source": [
    "np.unique(random_array_4)"
   ]
  },
  {
   "cell_type": "code",
   "execution_count": 35,
   "id": "d2722725",
   "metadata": {},
   "outputs": [
    {
     "data": {
      "text/plain": [
       "array([[3, 2, 8, 4, 3],\n",
       "       [6, 5, 2, 7, 6],\n",
       "       [0, 9, 3, 5, 8]])"
      ]
     },
     "execution_count": 35,
     "metadata": {},
     "output_type": "execute_result"
    }
   ],
   "source": [
    "random_array"
   ]
  },
  {
   "cell_type": "code",
   "execution_count": 36,
   "id": "63d6b1d3",
   "metadata": {},
   "outputs": [
    {
     "data": {
      "text/plain": [
       "array([3, 2, 8, 4, 3])"
      ]
     },
     "execution_count": 36,
     "metadata": {},
     "output_type": "execute_result"
    }
   ],
   "source": [
    "random_array[0]"
   ]
  },
  {
   "cell_type": "code",
   "execution_count": 37,
   "id": "f4b57cbc",
   "metadata": {},
   "outputs": [
    {
     "data": {
      "text/plain": [
       "array([0, 9, 3, 5, 8])"
      ]
     },
     "execution_count": 37,
     "metadata": {},
     "output_type": "execute_result"
    }
   ],
   "source": [
    "random_array[2]"
   ]
  },
  {
   "cell_type": "code",
   "execution_count": 38,
   "id": "e49a1378",
   "metadata": {},
   "outputs": [
    {
     "data": {
      "text/plain": [
       "array([[3, 2],\n",
       "       [6, 5]])"
      ]
     },
     "execution_count": 38,
     "metadata": {},
     "output_type": "execute_result"
    }
   ],
   "source": [
    "random_array[:2, :2]"
   ]
  },
  {
   "cell_type": "markdown",
   "id": "91fa0495",
   "metadata": {},
   "source": [
    "# Manipulating and comparing array"
   ]
  },
  {
   "cell_type": "markdown",
   "id": "f878bb32",
   "metadata": {},
   "source": [
    "## Arithemetic"
   ]
  },
  {
   "cell_type": "code",
   "execution_count": 39,
   "id": "d919311e",
   "metadata": {},
   "outputs": [],
   "source": [
    "array_1 = np.array([[2,4,5],[4,6,7],[8,9,66]])"
   ]
  },
  {
   "cell_type": "code",
   "execution_count": 40,
   "id": "d78752dc",
   "metadata": {},
   "outputs": [
    {
     "data": {
      "text/plain": [
       "(3, 3)"
      ]
     },
     "execution_count": 40,
     "metadata": {},
     "output_type": "execute_result"
    }
   ],
   "source": [
    "array_1.shape"
   ]
  },
  {
   "cell_type": "code",
   "execution_count": 41,
   "id": "fbd009ab",
   "metadata": {},
   "outputs": [],
   "source": [
    "a9 = np.array([[44,66,77],[33,44,1],[9,8,0]])"
   ]
  },
  {
   "cell_type": "code",
   "execution_count": 42,
   "id": "e0a950ab",
   "metadata": {},
   "outputs": [
    {
     "data": {
      "text/plain": [
       "array([[46, 70, 82],\n",
       "       [37, 50,  8],\n",
       "       [17, 17, 66]])"
      ]
     },
     "execution_count": 42,
     "metadata": {},
     "output_type": "execute_result"
    }
   ],
   "source": [
    "array_1 + a9"
   ]
  },
  {
   "cell_type": "code",
   "execution_count": 43,
   "id": "d12e383e",
   "metadata": {},
   "outputs": [
    {
     "data": {
      "text/plain": [
       "array([[-42, -62, -72],\n",
       "       [-29, -38,   6],\n",
       "       [ -1,   1,  66]])"
      ]
     },
     "execution_count": 43,
     "metadata": {},
     "output_type": "execute_result"
    }
   ],
   "source": [
    "array_1 - a9"
   ]
  },
  {
   "cell_type": "code",
   "execution_count": 44,
   "id": "a4dc76e2",
   "metadata": {},
   "outputs": [
    {
     "data": {
      "text/plain": [
       "array([[ 88, 264, 385],\n",
       "       [132, 264,   7],\n",
       "       [ 72,  72,   0]])"
      ]
     },
     "execution_count": 44,
     "metadata": {},
     "output_type": "execute_result"
    }
   ],
   "source": [
    "array_1 * a9"
   ]
  },
  {
   "cell_type": "code",
   "execution_count": 45,
   "id": "d3e918a1",
   "metadata": {},
   "outputs": [
    {
     "name": "stderr",
     "output_type": "stream",
     "text": [
      "C:\\Users\\NABZOOR\\AppData\\Local\\Temp\\ipykernel_19980\\1504522935.py:1: RuntimeWarning: divide by zero encountered in divide\n",
      "  array_1 / a9\n"
     ]
    },
    {
     "data": {
      "text/plain": [
       "array([[0.04545455, 0.06060606, 0.06493506],\n",
       "       [0.12121212, 0.13636364, 7.        ],\n",
       "       [0.88888889, 1.125     ,        inf]])"
      ]
     },
     "execution_count": 45,
     "metadata": {},
     "output_type": "execute_result"
    }
   ],
   "source": [
    "  array_1 / a9"
   ]
  },
  {
   "cell_type": "code",
   "execution_count": 46,
   "id": "01910b29",
   "metadata": {},
   "outputs": [
    {
     "name": "stderr",
     "output_type": "stream",
     "text": [
      "C:\\Users\\NABZOOR\\AppData\\Local\\Temp\\ipykernel_19980\\3528315358.py:2: RuntimeWarning: divide by zero encountered in floor_divide\n",
      "  array_1 // a9\n"
     ]
    },
    {
     "data": {
      "text/plain": [
       "array([[0, 0, 0],\n",
       "       [0, 0, 7],\n",
       "       [0, 1, 0]])"
      ]
     },
     "execution_count": 46,
     "metadata": {},
     "output_type": "execute_result"
    }
   ],
   "source": [
    "# floor division removes the decimals (round down)\n",
    "array_1 // a9"
   ]
  },
  {
   "cell_type": "code",
   "execution_count": 47,
   "id": "be28de41",
   "metadata": {},
   "outputs": [
    {
     "name": "stderr",
     "output_type": "stream",
     "text": [
      "C:\\Users\\NABZOOR\\AppData\\Local\\Temp\\ipykernel_19980\\3854315315.py:1: RuntimeWarning: divide by zero encountered in remainder\n",
      "  array_1 % a9\n"
     ]
    },
    {
     "data": {
      "text/plain": [
       "array([[2, 4, 5],\n",
       "       [4, 6, 0],\n",
       "       [8, 1, 0]])"
      ]
     },
     "execution_count": 47,
     "metadata": {},
     "output_type": "execute_result"
    }
   ],
   "source": [
    "array_1 % a9"
   ]
  },
  {
   "cell_type": "code",
   "execution_count": 48,
   "id": "2d9a991a",
   "metadata": {},
   "outputs": [
    {
     "data": {
      "text/plain": [
       "array([[   4,   16,   25],\n",
       "       [  16,   36,   49],\n",
       "       [  64,   81, 4356]])"
      ]
     },
     "execution_count": 48,
     "metadata": {},
     "output_type": "execute_result"
    }
   ],
   "source": [
    "array_1 ** 2"
   ]
  },
  {
   "cell_type": "code",
   "execution_count": 49,
   "id": "d5b94d8c",
   "metadata": {},
   "outputs": [
    {
     "data": {
      "text/plain": [
       "array([[   4,   16,   25],\n",
       "       [  16,   36,   49],\n",
       "       [  64,   81, 4356]])"
      ]
     },
     "execution_count": 49,
     "metadata": {},
     "output_type": "execute_result"
    }
   ],
   "source": [
    "np.square(array_1)#square() is used to square the element in the array "
   ]
  },
  {
   "cell_type": "code",
   "execution_count": 50,
   "id": "ec43f018",
   "metadata": {},
   "outputs": [
    {
     "data": {
      "text/plain": [
       "array([[46, 70, 82],\n",
       "       [37, 50,  8],\n",
       "       [17, 17, 66]])"
      ]
     },
     "execution_count": 50,
     "metadata": {},
     "output_type": "execute_result"
    }
   ],
   "source": [
    "np.add(array_1, a9)"
   ]
  },
  {
   "cell_type": "code",
   "execution_count": 51,
   "id": "8d71c10f",
   "metadata": {},
   "outputs": [
    {
     "data": {
      "text/plain": [
       "array([[0, 0, 1],\n",
       "       [0, 0, 1],\n",
       "       [0, 1, 0]], dtype=int32)"
      ]
     },
     "execution_count": 51,
     "metadata": {},
     "output_type": "execute_result"
    }
   ],
   "source": [
    "array_1 % 2"
   ]
  },
  {
   "cell_type": "code",
   "execution_count": 52,
   "id": "e943bf21",
   "metadata": {},
   "outputs": [
    {
     "data": {
      "text/plain": [
       "array([[ 1. ,  2. ,  2.5],\n",
       "       [ 2. ,  3. ,  3.5],\n",
       "       [ 4. ,  4.5, 33. ]])"
      ]
     },
     "execution_count": 52,
     "metadata": {},
     "output_type": "execute_result"
    }
   ],
   "source": [
    "array_1 / 2"
   ]
  },
  {
   "cell_type": "code",
   "execution_count": 53,
   "id": "45adf992",
   "metadata": {},
   "outputs": [
    {
     "data": {
      "text/plain": [
       "array([[ 2,  4,  5],\n",
       "       [ 4,  6,  7],\n",
       "       [ 8,  9, 66]])"
      ]
     },
     "execution_count": 53,
     "metadata": {},
     "output_type": "execute_result"
    }
   ],
   "source": [
    "array_1"
   ]
  },
  {
   "cell_type": "code",
   "execution_count": 54,
   "id": "4ccb6f22",
   "metadata": {},
   "outputs": [
    {
     "data": {
      "text/plain": [
       "array([[7.38905610e+00, 5.45981500e+01, 1.48413159e+02],\n",
       "       [5.45981500e+01, 4.03428793e+02, 1.09663316e+03],\n",
       "       [2.98095799e+03, 8.10308393e+03, 4.60718663e+28]])"
      ]
     },
     "execution_count": 54,
     "metadata": {},
     "output_type": "execute_result"
    }
   ],
   "source": [
    "np.exp(array_1)"
   ]
  },
  {
   "cell_type": "code",
   "execution_count": 55,
   "id": "c92a0b13",
   "metadata": {},
   "outputs": [
    {
     "data": {
      "text/plain": [
       "array([[0.69314718, 1.38629436, 1.60943791],\n",
       "       [1.38629436, 1.79175947, 1.94591015],\n",
       "       [2.07944154, 2.19722458, 4.18965474]])"
      ]
     },
     "execution_count": 55,
     "metadata": {},
     "output_type": "execute_result"
    }
   ],
   "source": [
    "np.log(array_1)"
   ]
  },
  {
   "cell_type": "markdown",
   "id": "345f14b6",
   "metadata": {},
   "source": [
    "# Aggregation:\n",
    "## Aggregation = performing the same operation on a number of things"
   ]
  },
  {
   "cell_type": "code",
   "execution_count": 56,
   "id": "ced0259d",
   "metadata": {},
   "outputs": [
    {
     "data": {
      "text/plain": [
       "list"
      ]
     },
     "execution_count": 56,
     "metadata": {},
     "output_type": "execute_result"
    }
   ],
   "source": [
    "listy_list = [1,2,3]\n",
    "type(listy_list)"
   ]
  },
  {
   "cell_type": "code",
   "execution_count": 57,
   "id": "cb1e838d",
   "metadata": {},
   "outputs": [
    {
     "data": {
      "text/plain": [
       "6"
      ]
     },
     "execution_count": 57,
     "metadata": {},
     "output_type": "execute_result"
    }
   ],
   "source": [
    "sum(listy_list)"
   ]
  },
  {
   "cell_type": "code",
   "execution_count": 58,
   "id": "92636542",
   "metadata": {},
   "outputs": [
    {
     "data": {
      "text/plain": [
       "array([[ 2,  4,  5],\n",
       "       [ 4,  6,  7],\n",
       "       [ 8,  9, 66]])"
      ]
     },
     "execution_count": 58,
     "metadata": {},
     "output_type": "execute_result"
    }
   ],
   "source": [
    "array_1"
   ]
  },
  {
   "cell_type": "code",
   "execution_count": 59,
   "id": "ae86d5ab",
   "metadata": {},
   "outputs": [
    {
     "data": {
      "text/plain": [
       "numpy.ndarray"
      ]
     },
     "execution_count": 59,
     "metadata": {},
     "output_type": "execute_result"
    }
   ],
   "source": [
    "type(array_1)"
   ]
  },
  {
   "cell_type": "code",
   "execution_count": 60,
   "id": "10cf823f",
   "metadata": {},
   "outputs": [
    {
     "data": {
      "text/plain": [
       "111"
      ]
     },
     "execution_count": 60,
     "metadata": {},
     "output_type": "execute_result"
    }
   ],
   "source": [
    "np.sum(array_1)"
   ]
  },
  {
   "cell_type": "code",
   "execution_count": 61,
   "id": "8b455abf",
   "metadata": {},
   "outputs": [
    {
     "data": {
      "text/plain": [
       "6"
      ]
     },
     "execution_count": 61,
     "metadata": {},
     "output_type": "execute_result"
    }
   ],
   "source": [
    "np.sum(listy_list)"
   ]
  },
  {
   "cell_type": "markdown",
   "id": "35ae1c2a",
   "metadata": {},
   "source": [
    "## Note: use python methods (sum()) on python datatypes and use Numpy methods on Numpy array(np.sum())"
   ]
  },
  {
   "cell_type": "markdown",
   "id": "c21b79a1",
   "metadata": {},
   "source": [
    " ### creating a massive numpy array"
   ]
  },
  {
   "cell_type": "code",
   "execution_count": 62,
   "id": "87ac7229",
   "metadata": {},
   "outputs": [
    {
     "data": {
      "text/plain": [
       "10000"
      ]
     },
     "execution_count": 62,
     "metadata": {},
     "output_type": "execute_result"
    }
   ],
   "source": [
    "massive_array = np.random.random(10000)\n",
    "massive_array.size"
   ]
  },
  {
   "cell_type": "code",
   "execution_count": 63,
   "id": "a44b873f",
   "metadata": {},
   "outputs": [
    {
     "data": {
      "text/plain": [
       "array([0.90959353, 0.21338535, 0.45212396, 0.93120602, 0.02489923,\n",
       "       0.60054892, 0.9501295 , 0.23030288, 0.54848992, 0.90912837,\n",
       "       0.13316945, 0.52341258, 0.75040986, 0.66901324, 0.46775286,\n",
       "       0.20484909, 0.49076589, 0.37238469, 0.47740115, 0.36589039,\n",
       "       0.83791799, 0.76864751, 0.31399468, 0.57262533, 0.27604905,\n",
       "       0.45284293, 0.35297837, 0.65739946, 0.37035108, 0.45909298,\n",
       "       0.71932412, 0.41299183, 0.90642327, 0.18045162, 0.74111887,\n",
       "       0.42237404, 0.42645357, 0.63437987, 0.5229062 , 0.41488598,\n",
       "       0.00142688, 0.09226235, 0.70939439, 0.5243456 , 0.69616046,\n",
       "       0.95546832, 0.68291385, 0.05312869, 0.30885268, 0.59259469,\n",
       "       0.23512041, 0.964971  , 0.94504822, 0.84840088, 0.472324  ,\n",
       "       0.84147671, 0.13111064, 0.30873366, 0.46299639, 0.7418472 ,\n",
       "       0.48582523, 0.13687612, 0.34353653, 0.32442617, 0.3004189 ,\n",
       "       0.1655014 , 0.41490177, 0.44812066, 0.77490038, 0.7963907 ,\n",
       "       0.52239013, 0.4606303 , 0.7782136 , 0.88728895, 0.67491877,\n",
       "       0.80047905, 0.93911135, 0.04065581, 0.87567172, 0.27656307,\n",
       "       0.4757645 , 0.79676096, 0.71724223, 0.14714757, 0.65874826,\n",
       "       0.06925207, 0.35707063, 0.81282955, 0.42770483, 0.59985444,\n",
       "       0.72816128, 0.82122761, 0.76051512, 0.00714328, 0.42025683,\n",
       "       0.46313622, 0.0554995 , 0.54144213, 0.60777075, 0.82845319])"
      ]
     },
     "execution_count": 63,
     "metadata": {},
     "output_type": "execute_result"
    }
   ],
   "source": [
    "massive_array[:100]"
   ]
  },
  {
   "cell_type": "code",
   "execution_count": 64,
   "id": "505be7a7",
   "metadata": {},
   "outputs": [
    {
     "name": "stdout",
     "output_type": "stream",
     "text": [
      "2.06 ms ± 553 µs per loop (mean ± std. dev. of 7 runs, 1,000 loops each)\n",
      "25.2 µs ± 930 ns per loop (mean ± std. dev. of 7 runs, 10,000 loops each)\n"
     ]
    }
   ],
   "source": [
    "%timeit sum(massive_array) #python sum method\n",
    "%timeit np.sum(massive_array) #numpy sum method"
   ]
  },
  {
   "cell_type": "markdown",
   "id": "c0411d93",
   "metadata": {},
   "source": [
    "#### note: numpy sum method is more faster then the python array"
   ]
  },
  {
   "cell_type": "markdown",
   "id": "82fa592d",
   "metadata": {},
   "source": [
    "### Mean is average of a given set of data. Let us consider below example  \n",
    "\n",
    "2\n",
    ",\n",
    " \n",
    "4\n",
    ",\n",
    " \n",
    "4\n",
    ",\n",
    " \n",
    "4\n",
    ",\n",
    " \n",
    "5\n",
    ",\n",
    " \n",
    "5\n",
    ",\n",
    " \n",
    "7\n",
    ",\n",
    " \n",
    "9\n",
    " \n",
    "2, 4, 4, 4, 5, 5, 7, 9 \n",
    "\n",
    "These eight data points have the mean (average) of 5: \n",
    "2+4+4+4+5+5+7+9/8 = 5\n",
    "\n",
    " "
   ]
  },
  {
   "cell_type": "code",
   "execution_count": 65,
   "id": "86493b0b",
   "metadata": {},
   "outputs": [
    {
     "data": {
      "text/plain": [
       "12.333333333333334"
      ]
     },
     "execution_count": 65,
     "metadata": {},
     "output_type": "execute_result"
    }
   ],
   "source": [
    "np.mean(array_1)"
   ]
  },
  {
   "cell_type": "code",
   "execution_count": 66,
   "id": "15eab1a9",
   "metadata": {},
   "outputs": [
    {
     "data": {
      "text/plain": [
       "66"
      ]
     },
     "execution_count": 66,
     "metadata": {},
     "output_type": "execute_result"
    }
   ],
   "source": [
    "np.max(array_1)"
   ]
  },
  {
   "cell_type": "code",
   "execution_count": 67,
   "id": "52fe65d5",
   "metadata": {},
   "outputs": [
    {
     "data": {
      "text/plain": [
       "2"
      ]
     },
     "execution_count": 67,
     "metadata": {},
     "output_type": "execute_result"
    }
   ],
   "source": [
    "np.min(array_1)"
   ]
  },
  {
   "cell_type": "code",
   "execution_count": 68,
   "id": "a3a573e4",
   "metadata": {
    "scrolled": true
   },
   "outputs": [
    {
     "data": {
      "text/plain": [
       "19.084606944399518"
      ]
     },
     "execution_count": 68,
     "metadata": {},
     "output_type": "execute_result"
    }
   ],
   "source": [
    "np.std(array_1)"
   ]
  },
  {
   "cell_type": "markdown",
   "id": "c82a544f",
   "metadata": {},
   "source": [
    "### Variance:\n",
    "    Variance is the sum of squares of differences between all numbers and means. \n",
    "Deviation for above example. First, calculate the deviations of each data point from the mean, and square the result of each:\n",
    "\n",
    " "
   ]
  },
  {
   "cell_type": "code",
   "execution_count": 69,
   "id": "3330c9a7",
   "metadata": {},
   "outputs": [
    {
     "data": {
      "text/plain": [
       "364.22222222222223"
      ]
     },
     "execution_count": 69,
     "metadata": {},
     "output_type": "execute_result"
    }
   ],
   "source": [
    "# high variance = wider range of numbers\n",
    "# low variance = lower range of numbers\n",
    "np.var(array_1)"
   ]
  },
  {
   "cell_type": "code",
   "execution_count": 70,
   "id": "75431921",
   "metadata": {},
   "outputs": [
    {
     "data": {
      "text/plain": [
       "19.084606944399518"
      ]
     },
     "execution_count": 70,
     "metadata": {},
     "output_type": "execute_result"
    }
   ],
   "source": [
    "# standard deviation = squareroot of variance\n",
    "np.sqrt(np.var(array_1))"
   ]
  },
  {
   "cell_type": "markdown",
   "id": "c26d5b76",
   "metadata": {},
   "source": [
    "# Reshapping and Transposing"
   ]
  },
  {
   "cell_type": "code",
   "execution_count": 71,
   "id": "7223bdcb",
   "metadata": {},
   "outputs": [],
   "source": [
    "arr_new = np.array([[1,2,3],[4,5,6]])"
   ]
  },
  {
   "cell_type": "code",
   "execution_count": 72,
   "id": "65e244a8",
   "metadata": {},
   "outputs": [
    {
     "data": {
      "text/plain": [
       "array([[1, 2, 3],\n",
       "       [4, 5, 6]])"
      ]
     },
     "execution_count": 72,
     "metadata": {},
     "output_type": "execute_result"
    }
   ],
   "source": [
    "arr_new"
   ]
  },
  {
   "cell_type": "code",
   "execution_count": 73,
   "id": "f917e75c",
   "metadata": {},
   "outputs": [
    {
     "data": {
      "text/plain": [
       "(2, 3)"
      ]
     },
     "execution_count": 73,
     "metadata": {},
     "output_type": "execute_result"
    }
   ],
   "source": [
    "arr_new.shape"
   ]
  },
  {
   "cell_type": "code",
   "execution_count": 74,
   "id": "adfb993b",
   "metadata": {},
   "outputs": [],
   "source": [
    "arr_new_2 = np.array([[[1,2,3],[4,5,6],[7,8,9]],[[10,11,12],[13,14,15],[16,17,18]]])"
   ]
  },
  {
   "cell_type": "code",
   "execution_count": 75,
   "id": "ea1e5b16",
   "metadata": {},
   "outputs": [
    {
     "data": {
      "text/plain": [
       "(2, 3, 3)"
      ]
     },
     "execution_count": 75,
     "metadata": {},
     "output_type": "execute_result"
    }
   ],
   "source": [
    "arr_new_2.shape"
   ]
  },
  {
   "cell_type": "code",
   "execution_count": 76,
   "id": "88ad11e3",
   "metadata": {},
   "outputs": [
    {
     "ename": "ValueError",
     "evalue": "operands could not be broadcast together with shapes (2,3) (2,3,3) ",
     "output_type": "error",
     "traceback": [
      "\u001b[1;31m---------------------------------------------------------------------------\u001b[0m",
      "\u001b[1;31mValueError\u001b[0m                                Traceback (most recent call last)",
      "Cell \u001b[1;32mIn[76], line 1\u001b[0m\n\u001b[1;32m----> 1\u001b[0m arr_new \u001b[38;5;241m*\u001b[39m arr_new_2\n",
      "\u001b[1;31mValueError\u001b[0m: operands could not be broadcast together with shapes (2,3) (2,3,3) "
     ]
    }
   ],
   "source": [
    "arr_new * arr_new_2"
   ]
  },
  {
   "cell_type": "markdown",
   "id": "b940b625",
   "metadata": {},
   "source": [
    "## NOTE: if you get the above kind of error then we need to reshape the array by using RESHAPING"
   ]
  },
  {
   "cell_type": "code",
   "execution_count": null,
   "id": "3b868b62",
   "metadata": {},
   "outputs": [],
   "source": [
    "arr_new_reshape = arr_new.reshape(2,3,1)# we are adding one in the shape because it is multiplication and its is based on numpy broadcasting rule"
   ]
  },
  {
   "cell_type": "code",
   "execution_count": null,
   "id": "1cbb396c",
   "metadata": {},
   "outputs": [],
   "source": [
    "arr_new_reshape.shape"
   ]
  },
  {
   "cell_type": "code",
   "execution_count": null,
   "id": "3cb3f48e",
   "metadata": {},
   "outputs": [],
   "source": [
    "arr_new_reshape * arr_new_2"
   ]
  },
  {
   "cell_type": "markdown",
   "id": "fe8e5b9d",
   "metadata": {},
   "source": [
    "### Transpose: interchange the column and row"
   ]
  },
  {
   "cell_type": "code",
   "execution_count": null,
   "id": "350e549b",
   "metadata": {},
   "outputs": [],
   "source": [
    "a2"
   ]
  },
  {
   "cell_type": "code",
   "execution_count": null,
   "id": "ad4676ea",
   "metadata": {},
   "outputs": [],
   "source": [
    "a2.T"
   ]
  },
  {
   "cell_type": "markdown",
   "id": "95fb5ee8",
   "metadata": {},
   "source": [
    "## dot product and element product"
   ]
  },
  {
   "cell_type": "code",
   "execution_count": null,
   "id": "7ad9b5fb",
   "metadata": {},
   "outputs": [],
   "source": [
    "np.random.seed(0)\n",
    "mat1 = np.random.randint(10, size=(5, 3))\n",
    "mat2 = np.random.randint(10, size=(5,3))"
   ]
  },
  {
   "cell_type": "code",
   "execution_count": null,
   "id": "4c6e670c",
   "metadata": {},
   "outputs": [],
   "source": [
    "# Element-wise multiplication (Hadamard product)\n",
    "mat1 * mat2"
   ]
  },
  {
   "cell_type": "markdown",
   "id": "ddde4f5a",
   "metadata": {},
   "source": [
    "## Dot product: first matrix column and second matrix row should be same and size need not to be same . Example: (3x3) . (3 x 2)\n"
   ]
  },
  {
   "cell_type": "code",
   "execution_count": null,
   "id": "264a76d0",
   "metadata": {},
   "outputs": [],
   "source": [
    "# Dot Product\n",
    "np.dot(mat1, mat2)"
   ]
  },
  {
   "cell_type": "markdown",
   "id": "ae53ea8e",
   "metadata": {},
   "source": [
    "#### for the above error we can use transpose and resolve it "
   ]
  },
  {
   "cell_type": "code",
   "execution_count": null,
   "id": "b52449a8",
   "metadata": {},
   "outputs": [],
   "source": [
    "# Transpose mat1\n",
    "mat1.T"
   ]
  },
  {
   "cell_type": "code",
   "execution_count": null,
   "id": "512c2986",
   "metadata": {},
   "outputs": [],
   "source": [
    "mat1.T.shape, mat2.shape"
   ]
  },
  {
   "cell_type": "code",
   "execution_count": null,
   "id": "ff508dd0",
   "metadata": {},
   "outputs": [],
   "source": [
    "mat3 = np.dot(mat1.T, mat2)\n",
    "mat3"
   ]
  },
  {
   "cell_type": "code",
   "execution_count": null,
   "id": "ecad56ad",
   "metadata": {},
   "outputs": [],
   "source": [
    "mat3.shape"
   ]
  },
  {
   "cell_type": "markdown",
   "id": "db6b0d69",
   "metadata": {},
   "source": [
    "## Comparision Operator"
   ]
  },
  {
   "cell_type": "code",
   "execution_count": 77,
   "id": "a5d6041f",
   "metadata": {},
   "outputs": [
    {
     "data": {
      "text/plain": [
       "array([1, 2, 3])"
      ]
     },
     "execution_count": 77,
     "metadata": {},
     "output_type": "execute_result"
    }
   ],
   "source": [
    "a1"
   ]
  },
  {
   "cell_type": "code",
   "execution_count": 78,
   "id": "c566a65f",
   "metadata": {},
   "outputs": [
    {
     "data": {
      "text/plain": [
       "array([[1. , 2. , 3. ],\n",
       "       [6.5, 4.3, 2.2],\n",
       "       [3.9, 9.8, 2.9]])"
      ]
     },
     "execution_count": 78,
     "metadata": {},
     "output_type": "execute_result"
    }
   ],
   "source": [
    "a2"
   ]
  },
  {
   "cell_type": "code",
   "execution_count": 79,
   "id": "2e2e3dcc",
   "metadata": {},
   "outputs": [
    {
     "data": {
      "text/plain": [
       "array([[False, False, False],\n",
       "       [ True,  True, False],\n",
       "       [ True,  True, False]])"
      ]
     },
     "execution_count": 79,
     "metadata": {},
     "output_type": "execute_result"
    }
   ],
   "source": [
    "a1 < a2"
   ]
  },
  {
   "cell_type": "code",
   "execution_count": 80,
   "id": "5ded3468",
   "metadata": {},
   "outputs": [
    {
     "data": {
      "text/plain": [
       "array([[ True,  True,  True],\n",
       "       [False, False,  True],\n",
       "       [False, False,  True]])"
      ]
     },
     "execution_count": 80,
     "metadata": {},
     "output_type": "execute_result"
    }
   ],
   "source": [
    "bool_array = a1 >= a2\n",
    "bool_array"
   ]
  },
  {
   "cell_type": "code",
   "execution_count": 81,
   "id": "240ad397",
   "metadata": {},
   "outputs": [
    {
     "data": {
      "text/plain": [
       "(numpy.ndarray, dtype('bool'))"
      ]
     },
     "execution_count": 81,
     "metadata": {},
     "output_type": "execute_result"
    }
   ],
   "source": [
    "type(bool_array), bool_array.dtype"
   ]
  },
  {
   "cell_type": "code",
   "execution_count": 82,
   "id": "4345e422",
   "metadata": {},
   "outputs": [
    {
     "data": {
      "text/plain": [
       "array([[ True,  True,  True],\n",
       "       [False, False, False],\n",
       "       [False, False, False]])"
      ]
     },
     "execution_count": 82,
     "metadata": {},
     "output_type": "execute_result"
    }
   ],
   "source": [
    "a1 == a2"
   ]
  },
  {
   "cell_type": "markdown",
   "id": "8d4b61b1",
   "metadata": {},
   "source": [
    " ## Sorting Array"
   ]
  },
  {
   "cell_type": "code",
   "execution_count": 83,
   "id": "61fc7ae4",
   "metadata": {},
   "outputs": [
    {
     "data": {
      "text/plain": [
       "array([[3, 7, 9, 3, 8],\n",
       "       [1, 5, 6, 5, 5],\n",
       "       [5, 2, 2, 6, 1]])"
      ]
     },
     "execution_count": 83,
     "metadata": {},
     "output_type": "execute_result"
    }
   ],
   "source": [
    "random_array_sort = np.random.randint(10, size=(3,5))\n",
    "random_array_sort"
   ]
  },
  {
   "cell_type": "code",
   "execution_count": 84,
   "id": "f3c06e8b",
   "metadata": {},
   "outputs": [
    {
     "data": {
      "text/plain": [
       "(3, 5)"
      ]
     },
     "execution_count": 84,
     "metadata": {},
     "output_type": "execute_result"
    }
   ],
   "source": [
    "random_array_sort.shape"
   ]
  },
  {
   "cell_type": "code",
   "execution_count": 85,
   "id": "fb2d24eb",
   "metadata": {},
   "outputs": [
    {
     "data": {
      "text/plain": [
       "array([[3, 3, 7, 8, 9],\n",
       "       [1, 5, 5, 5, 6],\n",
       "       [1, 2, 2, 5, 6]])"
      ]
     },
     "execution_count": 85,
     "metadata": {},
     "output_type": "execute_result"
    }
   ],
   "source": [
    "np.sort(random_array_sort)"
   ]
  },
  {
   "cell_type": "markdown",
   "id": "17b26181",
   "metadata": {},
   "source": [
    "## np.argsort(): sorted the array and give the indices values of the given array in sorted form"
   ]
  },
  {
   "cell_type": "code",
   "execution_count": 88,
   "id": "11f3c65e",
   "metadata": {},
   "outputs": [
    {
     "data": {
      "text/plain": [
       "array([[3, 7, 9, 3, 8],\n",
       "       [1, 5, 6, 5, 5],\n",
       "       [5, 2, 2, 6, 1]])"
      ]
     },
     "execution_count": 88,
     "metadata": {},
     "output_type": "execute_result"
    }
   ],
   "source": [
    "random_array_sort"
   ]
  },
  {
   "cell_type": "code",
   "execution_count": 86,
   "id": "8c7db64a",
   "metadata": {},
   "outputs": [
    {
     "data": {
      "text/plain": [
       "array([[0, 3, 1, 4, 2],\n",
       "       [0, 1, 3, 4, 2],\n",
       "       [4, 1, 2, 0, 3]], dtype=int64)"
      ]
     },
     "execution_count": 86,
     "metadata": {},
     "output_type": "execute_result"
    }
   ],
   "source": [
    "np.argsort(random_array_sort)"
   ]
  },
  {
   "cell_type": "code",
   "execution_count": 89,
   "id": "e2649c23",
   "metadata": {},
   "outputs": [
    {
     "data": {
      "text/plain": [
       "array([1, 2, 3])"
      ]
     },
     "execution_count": 89,
     "metadata": {},
     "output_type": "execute_result"
    }
   ],
   "source": [
    "a1"
   ]
  },
  {
   "cell_type": "code",
   "execution_count": 90,
   "id": "1637414e",
   "metadata": {},
   "outputs": [
    {
     "data": {
      "text/plain": [
       "0"
      ]
     },
     "execution_count": 90,
     "metadata": {},
     "output_type": "execute_result"
    }
   ],
   "source": [
    "np.argmin(a1)"
   ]
  },
  {
   "cell_type": "code",
   "execution_count": 91,
   "id": "c91860d5",
   "metadata": {},
   "outputs": [
    {
     "data": {
      "text/plain": [
       "2"
      ]
     },
     "execution_count": 91,
     "metadata": {},
     "output_type": "execute_result"
    }
   ],
   "source": [
    "np.argmax(a1)"
   ]
  },
  {
   "cell_type": "code",
   "execution_count": 93,
   "id": "0f8b573d",
   "metadata": {},
   "outputs": [
    {
     "data": {
      "text/plain": [
       "array([[3, 7, 9, 3, 8],\n",
       "       [1, 5, 6, 5, 5],\n",
       "       [5, 2, 2, 6, 1]])"
      ]
     },
     "execution_count": 93,
     "metadata": {},
     "output_type": "execute_result"
    }
   ],
   "source": [
    "random_array_sort"
   ]
  },
  {
   "cell_type": "code",
   "execution_count": 96,
   "id": "c9f3580b",
   "metadata": {},
   "outputs": [
    {
     "data": {
      "text/plain": [
       "2"
      ]
     },
     "execution_count": 96,
     "metadata": {},
     "output_type": "execute_result"
    }
   ],
   "source": [
    "np.argmax(random_array_sort)"
   ]
  },
  {
   "cell_type": "code",
   "execution_count": 98,
   "id": "dd480074",
   "metadata": {},
   "outputs": [
    {
     "data": {
      "text/plain": [
       "array([2, 0, 0, 2, 0], dtype=int64)"
      ]
     },
     "execution_count": 98,
     "metadata": {},
     "output_type": "execute_result"
    }
   ],
   "source": [
    "np.argmax(random_array_sort, axis=0) # it checks the maximum number vertically(axis = 0) and return their indices"
   ]
  },
  {
   "cell_type": "code",
   "execution_count": 99,
   "id": "a7762abf",
   "metadata": {},
   "outputs": [
    {
     "data": {
      "text/plain": [
       "array([2, 2, 3], dtype=int64)"
      ]
     },
     "execution_count": 99,
     "metadata": {},
     "output_type": "execute_result"
    }
   ],
   "source": [
    "np.argmax(random_array_sort, axis = 1)# it checks the maximum number horizontally (axis = 1)and return their indices"
   ]
  },
  {
   "cell_type": "markdown",
   "id": "f613c0bf",
   "metadata": {},
   "source": [
    "## Turn image into numpy array"
   ]
  },
  {
   "cell_type": "markdown",
   "id": "d2305e00",
   "metadata": {},
   "source": [
    "# lets check the image from the folder\n",
    "<img src=\"images/shonu.png\"/>"
   ]
  },
  {
   "cell_type": "code",
   "execution_count": 100,
   "id": "afb5d18d",
   "metadata": {},
   "outputs": [
    {
     "name": "stdout",
     "output_type": "stream",
     "text": [
      "<class 'numpy.ndarray'>\n"
     ]
    }
   ],
   "source": [
    "from matplotlib.image import imread\n",
    "shonu = imread(\"images/shonu.jpg\")\n",
    "print(type(shonu))"
   ]
  },
  {
   "cell_type": "code",
   "execution_count": 105,
   "id": "aeaed42d",
   "metadata": {},
   "outputs": [
    {
     "data": {
      "text/plain": [
       "(5760000, (1600, 1200, 3), 3)"
      ]
     },
     "execution_count": 105,
     "metadata": {},
     "output_type": "execute_result"
    }
   ],
   "source": [
    "shonu.size, shonu.shape, shonu.ndim"
   ]
  },
  {
   "cell_type": "code",
   "execution_count": 107,
   "id": "e9795b13",
   "metadata": {},
   "outputs": [
    {
     "data": {
      "text/plain": [
       "array([[[ 57,  65,  52],\n",
       "        [ 59,  67,  56],\n",
       "        [ 62,  68,  58],\n",
       "        ...,\n",
       "        [171, 189, 189],\n",
       "        [173, 191, 191],\n",
       "        [174, 192, 192]],\n",
       "\n",
       "       [[ 62,  67,  44],\n",
       "        [ 66,  69,  48],\n",
       "        [ 70,  73,  52],\n",
       "        ...,\n",
       "        [171, 189, 189],\n",
       "        [173, 191, 191],\n",
       "        [174, 192, 192]],\n",
       "\n",
       "       [[ 89,  89,  51],\n",
       "        [ 91,  91,  53],\n",
       "        [ 96,  94,  56],\n",
       "        ...,\n",
       "        [171, 189, 189],\n",
       "        [173, 191, 191],\n",
       "        [174, 192, 192]],\n",
       "\n",
       "       ...,\n",
       "\n",
       "       [[141, 139, 124],\n",
       "        [141, 139, 124],\n",
       "        [142, 140, 125],\n",
       "        ...,\n",
       "        [166, 149, 157],\n",
       "        [169, 157, 157],\n",
       "        [170, 162, 159]],\n",
       "\n",
       "       [[137, 135, 120],\n",
       "        [138, 136, 121],\n",
       "        [139, 137, 122],\n",
       "        ...,\n",
       "        [177, 165, 165],\n",
       "        [178, 174, 163],\n",
       "        [176, 177, 161]],\n",
       "\n",
       "       [[135, 133, 118],\n",
       "        [136, 134, 119],\n",
       "        [137, 135, 120],\n",
       "        ...,\n",
       "        [183, 174, 169],\n",
       "        [181, 182, 166],\n",
       "        [179, 184, 161]]], dtype=uint8)"
      ]
     },
     "execution_count": 107,
     "metadata": {},
     "output_type": "execute_result"
    }
   ],
   "source": [
    "shonu"
   ]
  },
  {
   "cell_type": "code",
   "execution_count": null,
   "id": "7610f739",
   "metadata": {},
   "outputs": [],
   "source": []
  }
 ],
 "metadata": {
  "kernelspec": {
   "display_name": "Python 3 (ipykernel)",
   "language": "python",
   "name": "python3"
  },
  "language_info": {
   "codemirror_mode": {
    "name": "ipython",
    "version": 3
   },
   "file_extension": ".py",
   "mimetype": "text/x-python",
   "name": "python",
   "nbconvert_exporter": "python",
   "pygments_lexer": "ipython3",
   "version": "3.11.5"
  }
 },
 "nbformat": 4,
 "nbformat_minor": 5
}
